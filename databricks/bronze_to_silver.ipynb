{
 "cells": [
  {
   "cell_type": "code",
   "execution_count": 0,
   "metadata": {
    "application/vnd.databricks.v1+cell": {
     "cellMetadata": {},
     "inputWidgets": {},
     "nuid": "53e9f12b-1e30-4c15-941f-85f80a77b12b",
     "showTitle": false,
     "title": ""
    }
   },
   "outputs": [],
   "source": [
    "import pyspark.sql.types as T\n",
    "import pyspark.sql.functions as F\n",
    "from pyspark.sql import DataFrame\n",
    "from functools import reduce\n",
    "\n",
    "target_tables = ['bronze_payments', 'bronze_trips', 'bronze_stations', 'bronze_riders']"
   ]
  },
  {
   "cell_type": "code",
   "execution_count": 0,
   "metadata": {
    "application/vnd.databricks.v1+cell": {
     "cellMetadata": {},
     "inputWidgets": {},
     "nuid": "4338961f-ddf1-46d1-b189-dc9ec99d9c74",
     "showTitle": false,
     "title": ""
    }
   },
   "outputs": [],
   "source": [
    "def df_from_delta_tb(table_name):\n",
    "    return spark.read.format(\"delta\") \\\n",
    "            .option(\"header\", \"true\") \\\n",
    "            .load(f\"/delta/{table_name}\")"
   ]
  },
  {
   "cell_type": "markdown",
   "metadata": {
    "application/vnd.databricks.v1+cell": {
     "cellMetadata": {},
     "inputWidgets": {},
     "nuid": "01a1d4cf-c2cc-4721-93eb-868c7efff075",
     "showTitle": false,
     "title": ""
    }
   },
   "source": [
    "### processing data"
   ]
  },
  {
   "cell_type": "code",
   "execution_count": 0,
   "metadata": {
    "application/vnd.databricks.v1+cell": {
     "cellMetadata": {},
     "inputWidgets": {},
     "nuid": "0eddba09-a84c-47cc-a9ef-08af02865e37",
     "showTitle": false,
     "title": ""
    }
   },
   "outputs": [],
   "source": [
    "def get_null_record(df):\n",
    "    # Create a condition to check nulls in all columns\n",
    "    null_condition = [F.col(c).isNull() for c in df.columns]\n",
    "\n",
    "    # Filter rows where any column contains null\n",
    "    df_nulls = df.filter(reduce(lambda x, y: x | y, null_condition))\n",
    "\n",
    "    # Show rows containing null values\n",
    "    return df_nulls\n",
    "\n",
    "def drop_null_rows(df: DataFrame, columns=None) -> DataFrame:\n",
    "    \"\"\"\n",
    "    Drops rows with null values from the DataFrame.\n",
    "    \n",
    "    Parameters:\n",
    "    df (DataFrame): The input DataFrame.\n",
    "    columns (list): List of columns to check for null values. If None, all columns will be checked.\n",
    "    \n",
    "    Returns:\n",
    "    DataFrame: A DataFrame with rows containing null values dropped.\n",
    "    \"\"\"\n",
    "    if columns:\n",
    "        # Drop rows where any of the specified columns contain null\n",
    "        return df.dropna(subset=columns)\n",
    "    return df.dropna()\n",
    "\n",
    "def drop_duplicate_rows(df: DataFrame, columns=None) -> DataFrame:\n",
    "    \"\"\"\n",
    "    Drops duplicate rows based on all columns from the DataFrame.\n",
    "    \n",
    "    Parameters:\n",
    "    df (DataFrame): The input DataFrame.\n",
    "    \n",
    "    Returns:\n",
    "    DataFrame: A DataFrame with duplicate rows removed.\n",
    "    \"\"\"\n",
    "    if columns:\n",
    "        return df.dropDuplicates(columns)\n",
    "    return df.dropDuplicates()\n",
    "\n",
    "def bronze_to_silver(df, table_name, over_write=False):\n",
    "    if over_write:\n",
    "        df.write.format(\"delta\") \\\n",
    "            .mode(\"overwrite\") \\\n",
    "            .saveAsTable(table_name)\n",
    "    else:\n",
    "        df.write.format(\"delta\") \\\n",
    "            .saveAsTable(table_name)\n",
    "    print(f\"Store successfully {table_name}\")"
   ]
  },
  {
   "cell_type": "code",
   "execution_count": 0,
   "metadata": {
    "application/vnd.databricks.v1+cell": {
     "cellMetadata": {},
     "inputWidgets": {},
     "nuid": "f63b65ae-34d4-42b7-a532-a88323fc6b70",
     "showTitle": false,
     "title": ""
    }
   },
   "outputs": [],
   "source": [
    "def main():\n",
    "    # initial bronze dataframes\n",
    "    bronze_dict = {key: df_from_delta_tb(key) for key in target_tables}\n",
    "    for key in bronze_dict.keys():\n",
    "        # drop null first\n",
    "        if key != 'bronze_riders':\n",
    "            bronze_dict[key] = drop_null_rows(bronze_dict[key])\n",
    "        else:\n",
    "            columns = bronze_dict[key].columns\n",
    "            columns.remove('account_end_date')\n",
    "            bronze_dict[key] = drop_null_rows(bronze_dict[key], columns=columns)\n",
    "        # drop duplicates\n",
    "        bronze_dict[key] = drop_duplicate_rows(bronze_dict[key])\n",
    "        table_name = key.replace(\"bronze\", \"silver\")\n",
    "        bronze_to_silver(bronze_dict[key], table_name=table_name)\n",
    "    "
   ]
  },
  {
   "cell_type": "code",
   "execution_count": 0,
   "metadata": {
    "application/vnd.databricks.v1+cell": {
     "cellMetadata": {},
     "inputWidgets": {},
     "nuid": "444dac9c-6a0e-4556-8177-1027e65b7b5d",
     "showTitle": false,
     "title": ""
    }
   },
   "outputs": [],
   "source": [
    "if __name__ == '__main__':\n",
    "    main()"
   ]
  }
 ],
 "metadata": {
  "application/vnd.databricks.v1+notebook": {
   "dashboards": [],
   "environmentMetadata": null,
   "language": "python",
   "notebookMetadata": {},
   "notebookName": "bronze_to_silver",
   "widgets": {}
  }
 },
 "nbformat": 4,
 "nbformat_minor": 0
}
