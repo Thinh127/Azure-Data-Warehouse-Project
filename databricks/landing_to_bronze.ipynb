{
 "cells": [
  {
   "cell_type": "code",
   "execution_count": 0,
   "metadata": {
    "application/vnd.databricks.v1+cell": {
     "cellMetadata": {},
     "inputWidgets": {},
     "nuid": "a0815297-752f-4ddc-a093-55aa3c74166d",
     "showTitle": false,
     "title": ""
    }
   },
   "outputs": [],
   "source": [
    "import os\n",
    "import pyspark.sql.types as T\n",
    "from pyspark.sql.types import StructField, StructType"
   ]
  },
  {
   "cell_type": "markdown",
   "metadata": {
    "application/vnd.databricks.v1+cell": {
     "cellMetadata": {},
     "inputWidgets": {},
     "nuid": "f27fdd4d-3463-4490-84ae-3d505f8fbf84",
     "showTitle": false,
     "title": ""
    }
   },
   "source": [
    "### define schema for each table"
   ]
  },
  {
   "cell_type": "code",
   "execution_count": 0,
   "metadata": {
    "application/vnd.databricks.v1+cell": {
     "cellMetadata": {},
     "inputWidgets": {},
     "nuid": "78df9106-d54a-4fa3-bc50-57c06c96d040",
     "showTitle": false,
     "title": ""
    }
   },
   "outputs": [],
   "source": [
    "# Define schema for Rider table\n",
    "rider_schema = StructType([\n",
    "    StructField(\"rider_id\", T.IntegerType(), True),\n",
    "    StructField(\"first\", T.StringType(), True),\n",
    "    StructField(\"last\", T.StringType(), True),\n",
    "    StructField(\"address\", T.StringType(), True),\n",
    "    StructField(\"birthday\", T.DateType(), True),\n",
    "    StructField(\"account_start_date\", T.DateType(), True),\n",
    "    StructField(\"account_end_date\", T.DateType(), True),\n",
    "    StructField(\"is_member\", T.BooleanType(), True)\n",
    "])\n",
    "\n",
    "# Define schema for Payment table\n",
    "payment_schema = StructType([\n",
    "    StructField(\"payment_id\", T.IntegerType(), True),\n",
    "    StructField(\"date\", T.DateType(), True),\n",
    "    StructField(\"amount\", T.DecimalType(10, 2), True),\n",
    "    StructField(\"rider_id\", T.IntegerType(), True)\n",
    "])\n",
    "\n",
    "# Define schema for Station table\n",
    "station_schema = StructType([\n",
    "    StructField(\"station_id\", T.StringType(), True),\n",
    "    StructField(\"name\", T.StringType(), True),\n",
    "    StructField(\"latitude\", T.FloatType(), True),\n",
    "    StructField(\"longitude\", T.FloatType(), True)\n",
    "])\n",
    "\n",
    "# Define schema for Trip table\n",
    "trip_schema = StructType([\n",
    "    StructField(\"trip_id\", T.StringType(), True),\n",
    "    StructField(\"rideable_type\", T.StringType(), True),\n",
    "    StructField(\"start_at\", T.TimestampType(), True),\n",
    "    StructField(\"ended_at\", T.TimestampType(), True),\n",
    "    StructField(\"start_station_id\", T.StringType(), True),\n",
    "    StructField(\"end_station_id\", T.StringType(), True),\n",
    "    StructField(\"rider_id\", T.IntegerType(), True)\n",
    "])"
   ]
  },
  {
   "cell_type": "markdown",
   "metadata": {
    "application/vnd.databricks.v1+cell": {
     "cellMetadata": {},
     "inputWidgets": {},
     "nuid": "843d479f-b0fe-4dde-9300-b214358c9510",
     "showTitle": false,
     "title": ""
    }
   },
   "source": [
    "### utils function"
   ]
  },
  {
   "cell_type": "code",
   "execution_count": 0,
   "metadata": {
    "application/vnd.databricks.v1+cell": {
     "cellMetadata": {},
     "inputWidgets": {},
     "nuid": "abbef602-dd96-4f89-b719-aaf942f0e26d",
     "showTitle": false,
     "title": ""
    }
   },
   "outputs": [],
   "source": [
    "def csv_to_bronze_table(table_name, schema, over_write=False):\n",
    "    load_path = os.path.join(landing_folder, f\"{table_name}.csv\")\n",
    "    df = spark.read. format(\"csv\") \\\n",
    "        .schema(schema) \\\n",
    "        .option(\"header\", \"true\") \\\n",
    "        .option(\"sep\", \",\") \\\n",
    "        .load(load_path)\n",
    "    print(f\"load successfully {table_name}.csv\")\n",
    "\n",
    "    save_path = f\"/delta/bronze_{table_name}\"\n",
    "\n",
    "    if over_write:\n",
    "        df.write.format(\"delta\") \\\n",
    "            .mode(\"overwrite\") \\\n",
    "            .option(\"mergeSchema\", \"true\") \\\n",
    "            .save(save_path)\n",
    "    else:\n",
    "        df.write.format(\"delta\") \\\n",
    "            .save(save_path)\n",
    "    print(f\"save successfully {table_name} into bronze\")"
   ]
  },
  {
   "cell_type": "markdown",
   "metadata": {
    "application/vnd.databricks.v1+cell": {
     "cellMetadata": {},
     "inputWidgets": {},
     "nuid": "b1571827-1a47-4288-9bc2-c6d55aa53fb8",
     "showTitle": false,
     "title": ""
    }
   },
   "source": [
    "### main"
   ]
  },
  {
   "cell_type": "code",
   "execution_count": 0,
   "metadata": {
    "application/vnd.databricks.v1+cell": {
     "cellMetadata": {},
     "inputWidgets": {},
     "nuid": "c65eeea6-b345-4d37-b0c3-f5104ea9959e",
     "showTitle": false,
     "title": ""
    }
   },
   "outputs": [],
   "source": [
    "def main():\n",
    "    global landing_folder\n",
    "    landing_folder = \"/FileStore/landing/\"\n",
    "    target_tables = ('payments', 'riders', 'stations', 'trips')\n",
    "    target_schemas = (payment_schema, rider_schema, station_schema, trip_schema)\n",
    "    for tb, sch in zip(target_tables, target_schemas):\n",
    "        csv_to_bronze_table(tb, sch, over_write=True)"
   ]
  },
  {
   "cell_type": "code",
   "execution_count": 0,
   "metadata": {
    "application/vnd.databricks.v1+cell": {
     "cellMetadata": {},
     "inputWidgets": {},
     "nuid": "e14b4e7f-734e-490c-823d-f53192800c72",
     "showTitle": false,
     "title": ""
    }
   },
   "outputs": [],
   "source": [
    "if __name__ == '__main__':\n",
    "    main()"
   ]
  }
 ],
 "metadata": {
  "application/vnd.databricks.v1+notebook": {
   "dashboards": [],
   "environmentMetadata": null,
   "language": "python",
   "notebookMetadata": {},
   "notebookName": "landing_to_bronze",
   "widgets": {}
  }
 },
 "nbformat": 4,
 "nbformat_minor": 0
}
