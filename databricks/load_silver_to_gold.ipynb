{
 "cells": [
  {
   "cell_type": "code",
   "execution_count": 0,
   "metadata": {
    "application/vnd.databricks.v1+cell": {
     "cellMetadata": {},
     "inputWidgets": {},
     "nuid": "19924187-aa50-480c-b8b0-13ce4ff3f6ba",
     "showTitle": false,
     "title": ""
    }
   },
   "outputs": [],
   "source": [
    "from pyspark.sql.functions import col\n",
    "import pyspark.sql.functions as F\n",
    "import pyspark.sql.types as T"
   ]
  },
  {
   "cell_type": "code",
   "execution_count": 0,
   "metadata": {
    "application/vnd.databricks.v1+cell": {
     "cellMetadata": {},
     "inputWidgets": {},
     "nuid": "d3534e66-7afc-4439-9a55-523bbaace277",
     "showTitle": false,
     "title": ""
    }
   },
   "outputs": [],
   "source": [
    "def read_silver_table(table_name):\n",
    "    return spark.read.format(\"delta\") \\\n",
    "            .load(f\"dbfs:/user/hive/warehouse/{table_name}\")"
   ]
  },
  {
   "cell_type": "code",
   "execution_count": 0,
   "metadata": {
    "application/vnd.databricks.v1+cell": {
     "cellMetadata": {},
     "inputWidgets": {},
     "nuid": "b2324b7e-db16-449e-8ceb-ad0f72a13eff",
     "showTitle": false,
     "title": ""
    }
   },
   "outputs": [],
   "source": [
    "silver_payments_df = read_silver_table(\"silver_payments\")\n",
    "silver_riders_df = read_silver_table(\"silver_riders\")\n",
    "silver_trips_df = read_silver_table(\"silver_trips\")\n",
    "silver_stations_df = read_silver_table(\"silver_stations\")\n"
   ]
  },
  {
   "cell_type": "code",
   "execution_count": 0,
   "metadata": {
    "application/vnd.databricks.v1+cell": {
     "cellMetadata": {},
     "inputWidgets": {},
     "nuid": "f0b73620-a3d4-451e-99b9-b69245b94b5b",
     "showTitle": false,
     "title": ""
    }
   },
   "outputs": [],
   "source": [
    "display(silver_payments_df.limit(3))\n",
    "display(silver_riders_df.limit(3))\n",
    "display(silver_trips_df.limit(3))\n",
    "display(silver_stations_df.limit(3))"
   ]
  },
  {
   "cell_type": "code",
   "execution_count": 0,
   "metadata": {
    "application/vnd.databricks.v1+cell": {
     "cellMetadata": {},
     "inputWidgets": {},
     "nuid": "8c40e262-d197-44ca-8a9f-68a807a5495f",
     "showTitle": false,
     "title": ""
    }
   },
   "outputs": [],
   "source": [
    "# silver_payments_df leftJoin silver_riders_df leftJoin silver_trips_df => fact_payments_df\n",
    "\n",
    "fact_payments_df = silver_payments_df.join(silver_trips_df, on='rider_id', how='left')\n",
    "fact_payments_df = fact_payments_df.selectExpr(\n",
    "                    \"payment_id\",\n",
    "                    \"CAST(DATE_FORMAT(date, 'yyyyMMdd') AS INT) AS date_key\",\n",
    "                    \"amount\",\n",
    "                    \"rider_id AS user_id\"\n",
    "                )\n",
    "display(fact_payments_df.limit(3))"
   ]
  },
  {
   "cell_type": "code",
   "execution_count": 0,
   "metadata": {
    "application/vnd.databricks.v1+cell": {
     "cellMetadata": {},
     "inputWidgets": {},
     "nuid": "a7eab327-84b2-4410-b188-e1202aa6293e",
     "showTitle": false,
     "title": ""
    }
   },
   "outputs": [],
   "source": [
    "# fact_trip_df <= silver_trips_df leftJoin silver_riders_df\n",
    "trips_with_riders_df = silver_trips_df.join(silver_riders_df, on=\"rider_id\", how=\"inner\")\n",
    "\n",
    "fact_trips_df = trips_with_riders_df.select(\n",
    "    F.col(\"rider_id\").cast(\"int\").alias(\"user_id\"),\n",
    "    F.col(\"trip_id\").cast(\"string\").alias(\"trip_id\"),\n",
    "    (F.datediff(F.current_date(), F.to_date(F.col(\"birthday\"), 'yyyy-MM-dd')) / 365).alias(\"user_age\"),\n",
    "    (F.unix_timestamp(col(\"ended_at\")) - F.unix_timestamp(col(\"start_at\"))).alias(\"duration\")\n",
    ")\n",
    "\n",
    "display(fact_trips_df.limit(3))"
   ]
  },
  {
   "cell_type": "code",
   "execution_count": 0,
   "metadata": {
    "application/vnd.databricks.v1+cell": {
     "cellMetadata": {},
     "inputWidgets": {},
     "nuid": "47cfb9bb-2802-4055-8b2f-3af000c79f38",
     "showTitle": false,
     "title": ""
    }
   },
   "outputs": [],
   "source": [
    "dim_users_df = silver_riders_df.select(\n",
    "        col(\"rider_id\").alias(\"user_id\"),\n",
    "        col(\"first\"),\n",
    "        col(\"last\"),\n",
    "        col(\"birthday\").alias(\"bod\"),\n",
    "        col(\"is_member\")\n",
    "    )\n",
    "\n",
    "display(dim_users_df.limit(3))"
   ]
  },
  {
   "cell_type": "code",
   "execution_count": 0,
   "metadata": {
    "application/vnd.databricks.v1+cell": {
     "cellMetadata": {},
     "inputWidgets": {},
     "nuid": "e774d7c2-bfef-47a9-8bd0-2e3a55d1c18f",
     "showTitle": false,
     "title": ""
    }
   },
   "outputs": [],
   "source": [
    "dim_stations_df = silver_stations_df.select(\n",
    "        col(\"station_id\").cast(\"string\").alias(\"station_id\"),\n",
    "        col(\"name\"),\n",
    "        col(\"latitude\"),\n",
    "        col(\"longitude\")\n",
    "    )\n",
    "display(dim_stations_df.limit(3))"
   ]
  },
  {
   "cell_type": "code",
   "execution_count": 0,
   "metadata": {
    "application/vnd.databricks.v1+cell": {
     "cellMetadata": {},
     "inputWidgets": {},
     "nuid": "61d49752-bf30-48d8-8e28-db84af65948f",
     "showTitle": false,
     "title": ""
    }
   },
   "outputs": [],
   "source": [
    "dim_trips_df = silver_trips_df.select(\n",
    "        col(\"trip_id\").cast(\"string\").alias(\"trip_id\"),\n",
    "        col(\"rideable_type\").alias(\"ridable_type\"),\n",
    "        col(\"start_at\").alias(\"started_at\"),\n",
    "        col(\"ended_at\").alias(\"ended_at\"),\n",
    "        col(\"start_station_id\").cast(\"string\").alias(\"start_station_id\"),\n",
    "        col(\"end_station_id\").cast(\"string\").alias(\"end_station_id\")\n",
    ")\n",
    "\n",
    "display(dim_trips_df.limit(3))"
   ]
  },
  {
   "cell_type": "code",
   "execution_count": 0,
   "metadata": {
    "application/vnd.databricks.v1+cell": {
     "cellMetadata": {},
     "inputWidgets": {},
     "nuid": "21931211-6c63-45cc-9d84-e4cdb5ddf582",
     "showTitle": false,
     "title": ""
    }
   },
   "outputs": [],
   "source": [
    "# Dictionary mapping table names to transformed DataFrames\n",
    "dataframes = {\n",
    "    \"gold.fact_payments\": fact_payments_df,\n",
    "    \"gold.dim_users\": dim_users_df,\n",
    "    \"gold.dim_stations\": dim_stations_df,\n",
    "    \"gold.dim_trips\": dim_trips_df,\n",
    "    \"gold.fact_trips\": fact_trips_df\n",
    "}\n",
    "\n",
    "fact_trips_df = fact_trips_df.withColumn(\"user_age\", fact_trips_df[\"user_age\"].cast(T.IntegerType()))\n",
    "fact_trips_df = fact_trips_df.withColumn(\"duration\", fact_trips_df[\"duration\"].cast(T.FloatType()))\n",
    "fact_payments_df = fact_payments_df.withColumn(\"amount\", fact_payments_df[\"amount\"].cast(T.DoubleType()))\n",
    "\n",
    "\n",
    "# Write each DataFrame to its respective Delta table\n",
    "for table_name, df in dataframes.items():\n",
    "    df.write.format(\"delta\") \\\n",
    "        .mode(\"overwrite\") \\\n",
    "        .saveAsTable(table_name)"
   ]
  }
 ],
 "metadata": {
  "application/vnd.databricks.v1+notebook": {
   "dashboards": [],
   "environmentMetadata": null,
   "language": "python",
   "notebookMetadata": {},
   "notebookName": "load_silver_to_gold",
   "widgets": {}
  }
 },
 "nbformat": 4,
 "nbformat_minor": 0
}
