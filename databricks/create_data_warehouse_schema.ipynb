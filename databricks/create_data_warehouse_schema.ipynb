{
 "cells": [
  {
   "cell_type": "code",
   "execution_count": 0,
   "metadata": {
    "application/vnd.databricks.v1+cell": {
     "cellMetadata": {},
     "inputWidgets": {},
     "nuid": "a467a95f-142e-4aa2-a5e6-41c53cb49502",
     "showTitle": false,
     "title": ""
    }
   },
   "outputs": [],
   "source": [
    "%sql\n",
    "CREATE DATABASE IF NOT EXISTS gold"
   ]
  },
  {
   "cell_type": "code",
   "execution_count": 0,
   "metadata": {
    "application/vnd.databricks.v1+cell": {
     "cellMetadata": {},
     "inputWidgets": {},
     "nuid": "ef411afd-9b43-4bba-81f5-ab92b940deb4",
     "showTitle": false,
     "title": ""
    }
   },
   "outputs": [],
   "source": [
    "%sql\n",
    "CREATE TABLE IF NOT EXISTS gold.dim_dates (\n",
    "  date_key INT,\n",
    "  date DATE,\n",
    "  year INT,\n",
    "  quarter INT,\n",
    "  quarter_name STRING,\n",
    "  month INT,\n",
    "  month_name STRING,\n",
    "  month_short_name STRING,\n",
    "  week_of_year INT,\n",
    "  day INT,\n",
    "  day_name STRING,\n",
    "  day_short_name STRING,\n",
    "  day_of_week INT,\n",
    "  day_of_year INT,\n",
    "  is_weekend BOOLEAN,\n",
    "  is_holiday BOOLEAN,\n",
    "  holiday_name STRING,\n",
    "  is_business_day BOOLEAN,\n",
    "  fiscal_year INT,\n",
    "  fiscal_quarter INT,\n",
    "  fiscal_month INT,\n",
    "  is_current_day BOOLEAN,\n",
    "  is_current_month BOOLEAN,\n",
    "  is_current_year BOOLEAN\n",
    ") USING DELTA;"
   ]
  },
  {
   "cell_type": "code",
   "execution_count": 0,
   "metadata": {
    "application/vnd.databricks.v1+cell": {
     "cellMetadata": {},
     "inputWidgets": {},
     "nuid": "703f9da1-37b1-46b0-89de-1d3dba05368e",
     "showTitle": false,
     "title": ""
    }
   },
   "outputs": [],
   "source": [
    "%sql\n",
    "CREATE TABLE IF NOT EXISTS gold.dim_users (\n",
    "  user_id INT,\n",
    "  first STRING,\n",
    "  last STRING,\n",
    "  bod DATE,\n",
    "  is_member BOOLEAN\n",
    ") USING DELTA;"
   ]
  },
  {
   "cell_type": "code",
   "execution_count": 0,
   "metadata": {
    "application/vnd.databricks.v1+cell": {
     "cellMetadata": {},
     "inputWidgets": {},
     "nuid": "afd129cd-1a0d-4c56-945a-9039deaadecd",
     "showTitle": false,
     "title": ""
    }
   },
   "outputs": [],
   "source": [
    "%sql\n",
    "CREATE TABLE IF NOT EXISTS gold.dim_trips (\n",
    "  trip_id STRING,\n",
    "  ridable_type STRING,\n",
    "  started_at TIMESTAMP,\n",
    "  ended_at TIMESTAMP,\n",
    "  start_station_id STRING,\n",
    "  end_station_id STRING\n",
    ") USING DELTA;"
   ]
  },
  {
   "cell_type": "code",
   "execution_count": 0,
   "metadata": {
    "application/vnd.databricks.v1+cell": {
     "cellMetadata": {},
     "inputWidgets": {},
     "nuid": "1abbd92d-c802-496a-bd00-a681223fb3a9",
     "showTitle": false,
     "title": ""
    }
   },
   "outputs": [],
   "source": [
    "%sql\n",
    "CREATE TABLE IF NOT EXISTS gold.dim_stations (\n",
    "  station_id STRING,\n",
    "  name STRING,\n",
    "  latitude FLOAT,\n",
    "  longitude FLOAT\n",
    ") USING DELTA;"
   ]
  },
  {
   "cell_type": "code",
   "execution_count": 0,
   "metadata": {
    "application/vnd.databricks.v1+cell": {
     "cellMetadata": {},
     "inputWidgets": {},
     "nuid": "65b2f260-97e6-41ac-8578-8736cbc5b906",
     "showTitle": false,
     "title": ""
    }
   },
   "outputs": [],
   "source": [
    "%sql\n",
    "CREATE TABLE IF NOT EXISTS gold.fact_payments (\n",
    "  payment_id INT,\n",
    "  user_id INT,\n",
    "  trip_id STRING,\n",
    "  date_key INT,\n",
    "  amount FLOAT\n",
    ") USING DELTA;"
   ]
  },
  {
   "cell_type": "code",
   "execution_count": 0,
   "metadata": {
    "application/vnd.databricks.v1+cell": {
     "cellMetadata": {},
     "inputWidgets": {},
     "nuid": "f39cbf68-6821-448d-89cf-4ca556a310ae",
     "showTitle": false,
     "title": ""
    }
   },
   "outputs": [],
   "source": [
    "%sql\n",
    "CREATE TABLE IF NOT EXISTS gold.fact_trips (\n",
    "  user_id INT,\n",
    "  trip_id STRING,\n",
    "  user_age INT,\n",
    "  duration FLOAT\n",
    ") USING DELTA;"
   ]
  }
 ],
 "metadata": {
  "application/vnd.databricks.v1+notebook": {
   "dashboards": [],
   "environmentMetadata": null,
   "language": "python",
   "notebookMetadata": {},
   "notebookName": "create_data_warehouse_schema",
   "widgets": {}
  }
 },
 "nbformat": 4,
 "nbformat_minor": 0
}
